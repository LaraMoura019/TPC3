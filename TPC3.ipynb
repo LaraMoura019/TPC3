{
 "cells": [
  {
   "cell_type": "markdown",
   "id": "1e545158",
   "metadata": {},
   "source": [
    "# Aula Prática 2 (guião)\n",
    "### Semana de 26 a 30 de Setembro de 2022\n",
    "### José Carlos Ramalho e Luís Cunha\n",
    "### Sinopsis:\n",
    "Algoritmos de cálculo numérico envolvendo estruturas condicionais (if-elif-else) e cíclicas (while)."
   ]
  },
  {
   "cell_type": "markdown",
   "id": "e38d18c4-d7d7-4fea-9bc6-e3f3c903386b",
   "metadata": {},
   "source": [
    "### Exercício 1: Soma de N números\n",
    "- Leia um número N;\n",
    "- Leia N números;\n",
    "- Imprima a soma dos N números."
   ]
  },
  {
   "cell_type": "code",
   "execution_count": 123,
   "id": "af973146-3bb4-4fa8-ba6c-b887b79ccff8",
   "metadata": {},
   "outputs": [
    {
     "name": "stdout",
     "output_type": "stream",
     "text": [
      "22\n"
     ]
    }
   ],
   "source": [
    "# Solução do exercício 1\n",
    "n = int(input(\"Introduza um número!\"))\n",
    "soma = 0\n",
    "while n > 0 :\n",
    "    x = int(input(\"Introduza número para a soma\"))\n",
    "    soma = soma + x \n",
    "    n = n - 1\n",
    "    \n",
    "print(soma)\n",
    "    \n"
   ]
  },
  {
   "cell_type": "markdown",
   "id": "13b62657",
   "metadata": {},
   "source": [
    "### Exercício 1.5: Números pares\n",
    "- Leia um número N;\n",
    "- Leia N números;\n",
    "- Imprima os números pares na saída."
   ]
  },
  {
   "cell_type": "code",
   "execution_count": 52,
   "id": "6b14bdaa",
   "metadata": {},
   "outputs": [
    {
     "name": "stdout",
     "output_type": "stream",
     "text": [
      "18 "
     ]
    }
   ],
   "source": [
    "n = int(input(\"Introduza um número!\"))\n",
    "while n > 0 :\n",
    "    x=int(input(\"Introduza um número\"))\n",
    "    if x % 2 == 0:\n",
    "        print(x, end=\" \")\n",
    "    n=n-1\n",
    "\n"
   ]
  },
  {
   "cell_type": "markdown",
   "id": "bdcbffb0",
   "metadata": {},
   "source": [
    "### Exercício 2: O Maior de N números\n",
    "- Leia um número N;\n",
    "- Leia N números;\n",
    "- Imprima o maior dos N números."
   ]
  },
  {
   "cell_type": "code",
   "execution_count": 58,
   "id": "af973146-3bb4-4fa8-ba6c-b887b79ccff8",
   "metadata": {},
   "outputs": [
    {
     "name": "stdout",
     "output_type": "stream",
     "text": [
      "40\n"
     ]
    }
   ],
   "source": [
    "# Solução do exercício 2\n",
    "n = int(input(\"Introduza um número!\"))\n",
    "maior=0\n",
    "while n > 0:\n",
    "    x=int(input(\"introduza os números\"))\n",
    "    n=n-1\n",
    "    if x > maior:\n",
    "        maior = x\n",
    "    \n",
    "print (maior)\n"
   ]
  },
  {
   "cell_type": "markdown",
   "id": "bdcbffb0",
   "metadata": {},
   "source": [
    "### Exercício 3: O Menor de N números\n",
    "- Leia um número N;\n",
    "- Leia N números;\n",
    "- Imprima o menor dos N números."
   ]
  },
  {
   "cell_type": "code",
   "execution_count": 78,
   "id": "64ad6f7b",
   "metadata": {},
   "outputs": [
    {
     "name": "stdout",
     "output_type": "stream",
     "text": [
      "2\n"
     ]
    }
   ],
   "source": [
    "# Solução do exercício 3\n",
    "n = int(input(\"introduza um número\"))\n",
    "menor= int(input(\"numero menor\"))\n",
    "while n > 1:\n",
    "    x=int(input(\"numero\"))\n",
    "    n = n - 1\n",
    "    if menor > x:\n",
    "        menor = x\n",
    "print (menor)\n",
    "     \n"
   ]
  },
  {
   "cell_type": "markdown",
   "id": "bdcbffb0",
   "metadata": {},
   "source": [
    "### Exercício 4: A Média de N números\n",
    "- Leia um número N;\n",
    "- Leia N números;\n",
    "- Imprima a média dos N números."
   ]
  },
  {
   "cell_type": "code",
   "execution_count": 4,
   "id": "a6c32b2e",
   "metadata": {},
   "outputs": [],
   "source": [
    "# Solução do exercício 4\n",
    "n="
   ]
  },
  {
   "cell_type": "markdown",
   "id": "46a52784",
   "metadata": {},
   "source": [
    "### Exercício 5: Potência\n",
    "- Defina uma função **pot** que recebe dois parâmetros, **a** e **b**, e retorna o resultado de **a elevado à potência de b**.\n",
    "- Use esta função para escrever no monitor as potências de 2 com expoentes de 1 a 20."
   ]
  },
  {
   "cell_type": "code",
   "execution_count": null,
   "id": "73ebf338",
   "metadata": {},
   "outputs": [],
   "source": [
    "# Solução do exercício 5\n"
   ]
  },
  {
   "cell_type": "markdown",
   "id": "a09b4add",
   "metadata": {},
   "source": [
    "### Exercício 6: Divisão inteira\n",
    "- Defina uma função **divisao** que recebe dois parâmetros **a** e **b** e retorna o resultado da **divisão inteira de a por b** (neste exercício não poderá usar as operações de divisão '/' e do resto '%')."
   ]
  },
  {
   "cell_type": "code",
   "execution_count": null,
   "id": "36dbd5aa",
   "metadata": {},
   "outputs": [],
   "source": [
    "# Solução do exercício 6"
   ]
  },
  {
   "cell_type": "markdown",
   "id": "0490effe",
   "metadata": {},
   "source": [
    "### Exercício 7: Resto\n",
    "- Defina uma função **resto** que recebe dois parâmetros **a** e **b** e retorna o **resto da divisão inteira de a por b** (neste exercício não poderá usar as operações de divisão '/' e do resto '%')."
   ]
  },
  {
   "cell_type": "code",
   "execution_count": null,
   "id": "3fea0e05",
   "metadata": {},
   "outputs": [],
   "source": [
    "# Solução do exercício 7"
   ]
  },
  {
   "cell_type": "markdown",
   "id": "d11cdd11",
   "metadata": {},
   "source": [
    "### Exercício 8: Série numérica\n",
    "- Defina uma função **serie** que recebe três parâmetros, **base**, **salto** e **nelems**, e escreve no monitor a série;\n",
    "- Invocada com: **serie(7, 4, 5)** escreveria: 7, 11, 15, 19, 23"
   ]
  },
  {
   "cell_type": "code",
   "execution_count": 6,
   "id": "7549c7d7",
   "metadata": {},
   "outputs": [],
   "source": [
    "# Solução do exercício 8\n"
   ]
  },
  {
   "cell_type": "markdown",
   "id": "73187e87",
   "metadata": {},
   "source": [
    "### Exercício 9: Desenhar um quadrado\n",
    "- Defina uma função **quad** que recebe um parâmetro, **n**, e desenha no monitor um quadrado usando o caráter '#'."
   ]
  },
  {
   "cell_type": "code",
   "execution_count": 7,
   "id": "a31f8eaf",
   "metadata": {},
   "outputs": [],
   "source": [
    "# Solução do exercício 9"
   ]
  },
  {
   "cell_type": "markdown",
   "id": "f4e2bc84",
   "metadata": {},
   "source": [
    "### Exercício 10: Índice de Massa Corporal\n",
    "- Defina uma função **imc** que recebe dois parâmetros, **peso**,**altura**, calcula o IMC corresponente e interpreta esse resultado.\n",
    "- imc(53,1.56) - Output: \"O seu índice de massa corporal é **21.78** e encontra-se na categoria **Normal**\"\n",
    "- imc(83,1.56) - Output: \"O seu índice de massa corporal é **34.11** e encontra-se na categoria **Obesidade grau I**\"\n",
    "\n",
    "Valores:\n",
    "- Menor que 18,5 - Baixo peso\n",
    "- 18,5 a 24,9 - Normal\n",
    "- 25 a 29,9\t- Excesso de peso\n",
    "- 30 a 34,9\t- Obesidade grau I\n",
    "- 35 a 39,9\t- Obesidade grau II\n",
    "- Maior que 40\t- Obesidade grau III"
   ]
  },
  {
   "cell_type": "code",
   "execution_count": 18,
   "id": "2a62004a",
   "metadata": {},
   "outputs": [],
   "source": [
    "# Solução do exercício 10"
   ]
  },
  {
   "cell_type": "markdown",
   "id": "1cf1b437",
   "metadata": {},
   "source": [
    "## TPC3: Adivinha o número!?\n",
    "\n",
    "Desenvolve em Python o código necessário para o jogo do Adivinha o número: \n",
    "* O jogo deverá ter dois modos: o computador tenta acertar no número que o jogador pensou ou, o jogador tenta acertar no número que o computador pensou; \n",
    "* No fim, o programa deverá indicar quantas tentativas foram realizadas para chegar ao resultado;\n",
    "* O Jogo: \n",
    "    - o utilizador pensa num número entre 0 e 100;\n",
    "    - o computador tenta adivinhar indicando um número do intervalo;\n",
    "    - o utilizador indica se o número em que pensou é **maior**, **menor**, ou se o computador **acertou**;\n",
    "    - ao terminar, o programa imprime o número de tentativas que o computador teve de fazer até chegar ao número.\n",
    "\n",
    "Que conclusão podes tirar sobre o número de tentativas necessárias para um número entre 0 e 100? E se fosse entre 0 e 1000?"
   ]
  },
  {
   "cell_type": "code",
   "execution_count": null,
   "id": "92f767a1",
   "metadata": {},
   "outputs": [],
   "source": [
    "#O jogador tenta acertar no número que o computador pensou\n",
    "import random\n",
    "def numero():\n",
    "    return random.randint(0,100)\n",
    "\n",
    "def game():\n",
    "    resposta= numero()\n",
    "    tentativa=0\n",
    "    print(\"\\nAdivinha o número\")\n",
    "    \n",
    "    n=0\n",
    "    while n is not resposta:\n",
    "        tentativa +=1\n",
    "        n= int(input(\"Adivinha o numero\"))\n",
    "        if n >resposta:\n",
    "            print(\"Tenta outra vez, o número é menor que\", n)\n",
    "        elif n< resposta:\n",
    "            print(\"Tenta outra vez, o número é maior que\",n)\n",
    "        else:\n",
    "            print(\"Parabéns, a resposta era\",n,\"\\nAcertou em\", tentativa,\"tentativas\")\n",
    "\n",
    "while True:\n",
    "    game()\n",
    "          \n",
    "\n"
   ]
  },
  {
   "cell_type": "code",
   "execution_count": 223,
   "id": "0ed4443a",
   "metadata": {},
   "outputs": [
    {
     "name": "stdout",
     "output_type": "stream",
     "text": [
      "O numero é maior, menor ou está correto?\n",
      "O número é 50 ?\n",
      "O número é 75 ?\n",
      "O número é 62 ?\n",
      "O número é 55 ?\n",
      "O número é 51 ?\n",
      "O número é 52 ?\n",
      "O número é 52 ?\n",
      "O número é 53 ?\n",
      "O seu número era 53 \n",
      "Acertei em 8 tentativas\n"
     ]
    },
    {
     "ename": "ValueError",
     "evalue": "invalid literal for int() with base 10: ''",
     "output_type": "error",
     "traceback": [
      "\u001b[1;31m---------------------------------------------------------------------------\u001b[0m",
      "\u001b[1;31mValueError\u001b[0m                                Traceback (most recent call last)",
      "\u001b[1;32mc:\\Users\\laram\\AppData\\Local\\Temp\\Tempdea3818c-4c39-465b-bdc2-95692ffb57c1_AulaP3-20230925.ipynb.zip\\AulaP3-20230925.ipynb Cell 26\u001b[0m line \u001b[0;36m2\n\u001b[0;32m     <a href='vscode-notebook-cell:/c%3A/Users/laram/AppData/Local/Temp/Tempdea3818c-4c39-465b-bdc2-95692ffb57c1_AulaP3-20230925.ipynb.zip/AulaP3-20230925.ipynb#X34sZmlsZQ%3D%3D?line=22'>23</a>\u001b[0m         \u001b[39mprint\u001b[39m(\u001b[39m\"\u001b[39m\u001b[39mO seu número era\u001b[39m\u001b[39m\"\u001b[39m,resposta,\u001b[39m\"\u001b[39m\u001b[39m\\n\u001b[39;00m\u001b[39mAcertei em\u001b[39m\u001b[39m\"\u001b[39m,tentativa,\u001b[39m\"\u001b[39m\u001b[39mtentativas\u001b[39m\u001b[39m\"\u001b[39m )\n\u001b[0;32m     <a href='vscode-notebook-cell:/c%3A/Users/laram/AppData/Local/Temp/Tempdea3818c-4c39-465b-bdc2-95692ffb57c1_AulaP3-20230925.ipynb.zip/AulaP3-20230925.ipynb#X34sZmlsZQ%3D%3D?line=23'>24</a>\u001b[0m \u001b[39mwhile\u001b[39;00m \u001b[39mTrue\u001b[39;00m:\n\u001b[1;32m---> <a href='vscode-notebook-cell:/c%3A/Users/laram/AppData/Local/Temp/Tempdea3818c-4c39-465b-bdc2-95692ffb57c1_AulaP3-20230925.ipynb.zip/AulaP3-20230925.ipynb#X34sZmlsZQ%3D%3D?line=24'>25</a>\u001b[0m     game()\n",
      "\u001b[1;32mc:\\Users\\laram\\AppData\\Local\\Temp\\Tempdea3818c-4c39-465b-bdc2-95692ffb57c1_AulaP3-20230925.ipynb.zip\\AulaP3-20230925.ipynb Cell 26\u001b[0m line \u001b[0;36m7\n\u001b[0;32m      <a href='vscode-notebook-cell:/c%3A/Users/laram/AppData/Local/Temp/Tempdea3818c-4c39-465b-bdc2-95692ffb57c1_AulaP3-20230925.ipynb.zip/AulaP3-20230925.ipynb#X34sZmlsZQ%3D%3D?line=4'>5</a>\u001b[0m a\u001b[39m=\u001b[39m\u001b[39m0\u001b[39m\n\u001b[0;32m      <a href='vscode-notebook-cell:/c%3A/Users/laram/AppData/Local/Temp/Tempdea3818c-4c39-465b-bdc2-95692ffb57c1_AulaP3-20230925.ipynb.zip/AulaP3-20230925.ipynb#X34sZmlsZQ%3D%3D?line=5'>6</a>\u001b[0m \u001b[39mwhile\u001b[39;00m n \u001b[39m%\u001b[39m \u001b[39m2\u001b[39m \u001b[39m!=\u001b[39m\u001b[39m0\u001b[39m:\n\u001b[1;32m----> <a href='vscode-notebook-cell:/c%3A/Users/laram/AppData/Local/Temp/Tempdea3818c-4c39-465b-bdc2-95692ffb57c1_AulaP3-20230925.ipynb.zip/AulaP3-20230925.ipynb#X34sZmlsZQ%3D%3D?line=6'>7</a>\u001b[0m     n\u001b[39m=\u001b[39m\u001b[39mint\u001b[39;49m(\u001b[39minput\u001b[39;49m(\u001b[39m\"\u001b[39;49m\u001b[39mInsere um limite máximo par\u001b[39;49m\u001b[39m\"\u001b[39;49m))\n\u001b[0;32m      <a href='vscode-notebook-cell:/c%3A/Users/laram/AppData/Local/Temp/Tempdea3818c-4c39-465b-bdc2-95692ffb57c1_AulaP3-20230925.ipynb.zip/AulaP3-20230925.ipynb#X34sZmlsZQ%3D%3D?line=7'>8</a>\u001b[0m resposta \u001b[39m=\u001b[39m\u001b[39mint\u001b[39m(n\u001b[39m/\u001b[39m\u001b[39m2\u001b[39m)\n\u001b[0;32m      <a href='vscode-notebook-cell:/c%3A/Users/laram/AppData/Local/Temp/Tempdea3818c-4c39-465b-bdc2-95692ffb57c1_AulaP3-20230925.ipynb.zip/AulaP3-20230925.ipynb#X34sZmlsZQ%3D%3D?line=8'>9</a>\u001b[0m \u001b[39mprint\u001b[39m(\u001b[39m\"\u001b[39m\u001b[39mO numero é maior, menor ou está correto?\u001b[39m\u001b[39m\"\u001b[39m)\n",
      "\u001b[1;31mValueError\u001b[0m: invalid literal for int() with base 10: ''"
     ]
    }
   ],
   "source": [
    "#O computador tenta acertar no número que o jogador pensou\n",
    "def game():\n",
    "    n=1\n",
    "    tentativa=0\n",
    "    a=0\n",
    "    while n % 2 !=0:\n",
    "        n=int(input(\"Insere um limite máximo par\"))\n",
    "    resposta =int(n/2)\n",
    "    print(\"O numero é maior, menor ou está correto?\")\n",
    "    while a==\"maior\" or a==\"menor\" or a==0:\n",
    "        a=input(print(\"O número é\",resposta ,\"?\"))\n",
    "        if n<2:\n",
    "            n = 2\n",
    "        else:\n",
    "            n=n/2\n",
    "            \n",
    "        if a==\"maior\":\n",
    "            resposta= int(resposta + (n/2))\n",
    "        elif a==\"menor\":\n",
    "            resposta=int(resposta - (n/2))\n",
    "        tentativa= tentativa +1\n",
    "    if a==\"correto\":\n",
    "        print(\"O seu número era\",resposta,\"\\nAcertei em\",tentativa,\"tentativas\" )\n",
    "while True:\n",
    "    game()\n",
    "#A conclusão que podemos tirar é que de 0 a 1000 seriam necessárias mais tentativas"
   ]
  }
 ],
 "metadata": {
  "kernelspec": {
   "display_name": "Python 3.9.7 64-bit",
   "language": "python",
   "name": "python3"
  },
  "language_info": {
   "codemirror_mode": {
    "name": "ipython",
    "version": 3
   },
   "file_extension": ".py",
   "mimetype": "text/x-python",
   "name": "python",
   "nbconvert_exporter": "python",
   "pygments_lexer": "ipython3",
   "version": "3.11.5"
  },
  "vscode": {
   "interpreter": {
    "hash": "916dbcbb3f70747c44a77c7bcd40155683ae19c65e1c03b4aa3499c5328201f1"
   }
  }
 },
 "nbformat": 4,
 "nbformat_minor": 5
}
